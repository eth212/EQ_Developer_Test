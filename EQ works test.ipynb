{
 "cells": [
  {
   "cell_type": "code",
   "execution_count": 49,
   "metadata": {},
   "outputs": [],
   "source": [
    "import pandas as pd\n",
    "import numpy as np \n",
    "import math\n",
    "from matplotlib import pyplot as plt"
   ]
  },
  {
   "cell_type": "code",
   "execution_count": 3,
   "metadata": {},
   "outputs": [],
   "source": [
    "buffer = pd.read_csv(\"DataSample.csv\")\n",
    "df = pd.DataFrame(buffer)\n",
    "\n",
    "buffer2 = pd.read_csv(\"POIList.csv\")\n",
    "df2 = pd.DataFrame(buffer2)"
   ]
  },
  {
   "cell_type": "code",
   "execution_count": 4,
   "metadata": {},
   "outputs": [
    {
     "data": {
      "text/html": [
       "<div>\n",
       "<style scoped>\n",
       "    .dataframe tbody tr th:only-of-type {\n",
       "        vertical-align: middle;\n",
       "    }\n",
       "\n",
       "    .dataframe tbody tr th {\n",
       "        vertical-align: top;\n",
       "    }\n",
       "\n",
       "    .dataframe thead th {\n",
       "        text-align: right;\n",
       "    }\n",
       "</style>\n",
       "<table border=\"1\" class=\"dataframe\">\n",
       "  <thead>\n",
       "    <tr style=\"text-align: right;\">\n",
       "      <th></th>\n",
       "      <th>POIID</th>\n",
       "      <th>Latitude</th>\n",
       "      <th>Longitude</th>\n",
       "    </tr>\n",
       "  </thead>\n",
       "  <tbody>\n",
       "    <tr>\n",
       "      <th>0</th>\n",
       "      <td>POI1</td>\n",
       "      <td>53.546167</td>\n",
       "      <td>-113.485734</td>\n",
       "    </tr>\n",
       "    <tr>\n",
       "      <th>1</th>\n",
       "      <td>POI2</td>\n",
       "      <td>53.546167</td>\n",
       "      <td>-113.485734</td>\n",
       "    </tr>\n",
       "    <tr>\n",
       "      <th>2</th>\n",
       "      <td>POI3</td>\n",
       "      <td>45.521629</td>\n",
       "      <td>-73.566024</td>\n",
       "    </tr>\n",
       "    <tr>\n",
       "      <th>3</th>\n",
       "      <td>POI4</td>\n",
       "      <td>45.224830</td>\n",
       "      <td>-63.232729</td>\n",
       "    </tr>\n",
       "  </tbody>\n",
       "</table>\n",
       "</div>"
      ],
      "text/plain": [
       "  POIID   Latitude   Longitude\n",
       "0  POI1  53.546167 -113.485734\n",
       "1  POI2  53.546167 -113.485734\n",
       "2  POI3  45.521629  -73.566024\n",
       "3  POI4  45.224830  -63.232729"
      ]
     },
     "execution_count": 4,
     "metadata": {},
     "output_type": "execute_result"
    }
   ],
   "source": [
    "df2.head()"
   ]
  },
  {
   "cell_type": "code",
   "execution_count": 5,
   "metadata": {},
   "outputs": [
    {
     "data": {
      "text/plain": [
       "Index(['POIID', ' Latitude', 'Longitude'], dtype='object')"
      ]
     },
     "execution_count": 5,
     "metadata": {},
     "output_type": "execute_result"
    }
   ],
   "source": [
    "df2.columns"
   ]
  },
  {
   "cell_type": "code",
   "execution_count": 6,
   "metadata": {},
   "outputs": [],
   "source": [
    "########## Problem 1 ##########\n",
    "ids_to_remove = []\n",
    "valid_data = {}\n",
    "for i in range(len(df)):\n",
    "    coordinate_key = str(df[\"Latitude\"].iloc[i]) + str(df[\"Longitude\"].iloc[i]) #creating a key for dictionary\n",
    "    if coordinate_key not in valid_data:                                        #O(1) look up time\n",
    "        valid_data[coordinate_key] = [df[\" TimeSt\"].iloc[i]]                    #storing an array of timestamps to check for suspicous entries\n",
    "    elif df[\" TimeSt\"].iloc[i] in valid_data[coordinate_key]:                   #checking to see if that time stamp has been seen before\n",
    "        ids_to_remove.append(df[\"_ID\"].iloc[i])                                 #if suspicous, store it's id in array\n",
    "    else:                                                                       \n",
    "        valid_data[coordinate_key].append(df[\" TimeSt\"].iloc[i])                #if the timestamp is new, store it in dictionary\n",
    "df = df[~df[\"_ID\"].isin(ids_to_remove)]                                         #removing the suspicous entries    \n",
    "\n",
    "#this method takes O(n) time where n is the length of the dataframe "
   ]
  },
  {
   "cell_type": "code",
   "execution_count": 109,
   "metadata": {},
   "outputs": [],
   "source": [
    "########## Problem 2 ##########\n",
    "#This function assumes that latitude and Longitude function perpendicular to eachother (creating 2d vector space) \n",
    "def closest_vector(lat, long):\n",
    "    curr_closest = df2[\"POIID\"].iloc[0]\n",
    "    \n",
    "    #calculating for first coordinate\n",
    "    delta_x = lat - df2[\" Latitude\"].iloc[0] \n",
    "    delta_y = long - df2[\"Longitude\"].iloc[0]\n",
    "    min_dist = math.sqrt((delta_x ** 2) + (delta_y ** 2))\n",
    "    \n",
    "    for i in range(1, len(df2)):\n",
    "        delta_x = lat - df2[\" Latitude\"].iloc[i] \n",
    "        delta_y = long - df2[\"Longitude\"].iloc[i]\n",
    "        curr_dist = math.sqrt((delta_x **2) + (delta_y ** 2))         #using pythagoras theorem to get distance in between points\n",
    "        \n",
    "        if curr_dist < min_dist:\n",
    "            min_dist = curr_dist\n",
    "            curr_closest = df2[\"POIID\"].iloc[i]\n",
    "            \n",
    "    return curr_closest, min_dist"
   ]
  },
  {
   "cell_type": "code",
   "execution_count": 119,
   "metadata": {},
   "outputs": [
    {
     "data": {
      "text/html": [
       "<div>\n",
       "<style scoped>\n",
       "    .dataframe tbody tr th:only-of-type {\n",
       "        vertical-align: middle;\n",
       "    }\n",
       "\n",
       "    .dataframe tbody tr th {\n",
       "        vertical-align: top;\n",
       "    }\n",
       "\n",
       "    .dataframe thead th {\n",
       "        text-align: right;\n",
       "    }\n",
       "</style>\n",
       "<table border=\"1\" class=\"dataframe\">\n",
       "  <thead>\n",
       "    <tr style=\"text-align: right;\">\n",
       "      <th></th>\n",
       "      <th>_ID</th>\n",
       "      <th>TimeSt</th>\n",
       "      <th>Country</th>\n",
       "      <th>Province</th>\n",
       "      <th>City</th>\n",
       "      <th>Latitude</th>\n",
       "      <th>Longitude</th>\n",
       "      <th>Nearest_POI</th>\n",
       "    </tr>\n",
       "  </thead>\n",
       "  <tbody>\n",
       "    <tr>\n",
       "      <th>0</th>\n",
       "      <td>4516516</td>\n",
       "      <td>2017-06-21 00:00:00.143</td>\n",
       "      <td>CA</td>\n",
       "      <td>ON</td>\n",
       "      <td>Waterloo</td>\n",
       "      <td>43.49347</td>\n",
       "      <td>-80.49123</td>\n",
       "      <td>POI3</td>\n",
       "    </tr>\n",
       "    <tr>\n",
       "      <th>1</th>\n",
       "      <td>4516547</td>\n",
       "      <td>2017-06-21 18:00:00.193</td>\n",
       "      <td>CA</td>\n",
       "      <td>ON</td>\n",
       "      <td>London</td>\n",
       "      <td>42.93990</td>\n",
       "      <td>-81.27090</td>\n",
       "      <td>POI3</td>\n",
       "    </tr>\n",
       "    <tr>\n",
       "      <th>2</th>\n",
       "      <td>4516550</td>\n",
       "      <td>2017-06-21 15:00:00.287</td>\n",
       "      <td>CA</td>\n",
       "      <td>ON</td>\n",
       "      <td>Guelph</td>\n",
       "      <td>43.57760</td>\n",
       "      <td>-80.22010</td>\n",
       "      <td>POI3</td>\n",
       "    </tr>\n",
       "    <tr>\n",
       "      <th>3</th>\n",
       "      <td>4516600</td>\n",
       "      <td>2017-06-21 15:00:00.307</td>\n",
       "      <td>CA</td>\n",
       "      <td>ON</td>\n",
       "      <td>Stratford</td>\n",
       "      <td>43.37160</td>\n",
       "      <td>-80.97730</td>\n",
       "      <td>POI3</td>\n",
       "    </tr>\n",
       "    <tr>\n",
       "      <th>4</th>\n",
       "      <td>4516613</td>\n",
       "      <td>2017-06-21 15:00:00.497</td>\n",
       "      <td>CA</td>\n",
       "      <td>ON</td>\n",
       "      <td>Stratford</td>\n",
       "      <td>43.37160</td>\n",
       "      <td>-80.97730</td>\n",
       "      <td>POI3</td>\n",
       "    </tr>\n",
       "    <tr>\n",
       "      <th>...</th>\n",
       "      <td>...</td>\n",
       "      <td>...</td>\n",
       "      <td>...</td>\n",
       "      <td>...</td>\n",
       "      <td>...</td>\n",
       "      <td>...</td>\n",
       "      <td>...</td>\n",
       "      <td>...</td>\n",
       "    </tr>\n",
       "    <tr>\n",
       "      <th>209</th>\n",
       "      <td>4527041</td>\n",
       "      <td>2017-06-21 19:00:24.713</td>\n",
       "      <td>CA</td>\n",
       "      <td>ON</td>\n",
       "      <td>London</td>\n",
       "      <td>42.99300</td>\n",
       "      <td>-81.16900</td>\n",
       "      <td>POI3</td>\n",
       "    </tr>\n",
       "    <tr>\n",
       "      <th>210</th>\n",
       "      <td>4527101</td>\n",
       "      <td>2017-06-21 01:00:25.740</td>\n",
       "      <td>CA</td>\n",
       "      <td>ON</td>\n",
       "      <td>Toronto</td>\n",
       "      <td>43.64660</td>\n",
       "      <td>-79.44930</td>\n",
       "      <td>POI3</td>\n",
       "    </tr>\n",
       "    <tr>\n",
       "      <th>211</th>\n",
       "      <td>4527148</td>\n",
       "      <td>2017-06-21 19:00:20.903</td>\n",
       "      <td>CA</td>\n",
       "      <td>AB</td>\n",
       "      <td>Airdrie</td>\n",
       "      <td>51.27979</td>\n",
       "      <td>-114.00324</td>\n",
       "      <td>POI1</td>\n",
       "    </tr>\n",
       "    <tr>\n",
       "      <th>212</th>\n",
       "      <td>4527192</td>\n",
       "      <td>2017-06-21 05:00:21.100</td>\n",
       "      <td>CA</td>\n",
       "      <td>ON</td>\n",
       "      <td>Toronto</td>\n",
       "      <td>43.66820</td>\n",
       "      <td>-79.42090</td>\n",
       "      <td>POI3</td>\n",
       "    </tr>\n",
       "    <tr>\n",
       "      <th>213</th>\n",
       "      <td>4527235</td>\n",
       "      <td>2017-06-21 08:00:21.153</td>\n",
       "      <td>CA</td>\n",
       "      <td>ON</td>\n",
       "      <td>Waterloo</td>\n",
       "      <td>43.47370</td>\n",
       "      <td>-80.53090</td>\n",
       "      <td>POI3</td>\n",
       "    </tr>\n",
       "  </tbody>\n",
       "</table>\n",
       "<p>200 rows × 8 columns</p>\n",
       "</div>"
      ],
      "text/plain": [
       "         _ID                   TimeSt Country Province       City  Latitude  \\\n",
       "0    4516516  2017-06-21 00:00:00.143      CA       ON   Waterloo  43.49347   \n",
       "1    4516547  2017-06-21 18:00:00.193      CA       ON     London  42.93990   \n",
       "2    4516550  2017-06-21 15:00:00.287      CA       ON     Guelph  43.57760   \n",
       "3    4516600  2017-06-21 15:00:00.307      CA       ON  Stratford  43.37160   \n",
       "4    4516613  2017-06-21 15:00:00.497      CA       ON  Stratford  43.37160   \n",
       "..       ...                      ...     ...      ...        ...       ...   \n",
       "209  4527041  2017-06-21 19:00:24.713      CA       ON     London  42.99300   \n",
       "210  4527101  2017-06-21 01:00:25.740      CA       ON    Toronto  43.64660   \n",
       "211  4527148  2017-06-21 19:00:20.903      CA       AB    Airdrie  51.27979   \n",
       "212  4527192  2017-06-21 05:00:21.100      CA       ON    Toronto  43.66820   \n",
       "213  4527235  2017-06-21 08:00:21.153      CA       ON   Waterloo  43.47370   \n",
       "\n",
       "     Longitude Nearest_POI  \n",
       "0    -80.49123        POI3  \n",
       "1    -81.27090        POI3  \n",
       "2    -80.22010        POI3  \n",
       "3    -80.97730        POI3  \n",
       "4    -80.97730        POI3  \n",
       "..         ...         ...  \n",
       "209  -81.16900        POI3  \n",
       "210  -79.44930        POI3  \n",
       "211 -114.00324        POI1  \n",
       "212  -79.42090        POI3  \n",
       "213  -80.53090        POI3  \n",
       "\n",
       "[200 rows x 8 columns]"
      ]
     },
     "execution_count": 119,
     "metadata": {},
     "output_type": "execute_result"
    }
   ],
   "source": [
    "df.head(200)"
   ]
  },
  {
   "cell_type": "code",
   "execution_count": 121,
   "metadata": {},
   "outputs": [
    {
     "data": {
      "text/html": [
       "<div>\n",
       "<style scoped>\n",
       "    .dataframe tbody tr th:only-of-type {\n",
       "        vertical-align: middle;\n",
       "    }\n",
       "\n",
       "    .dataframe tbody tr th {\n",
       "        vertical-align: top;\n",
       "    }\n",
       "\n",
       "    .dataframe thead th {\n",
       "        text-align: right;\n",
       "    }\n",
       "</style>\n",
       "<table border=\"1\" class=\"dataframe\">\n",
       "  <thead>\n",
       "    <tr style=\"text-align: right;\">\n",
       "      <th></th>\n",
       "      <th>POIID</th>\n",
       "      <th>Latitude</th>\n",
       "      <th>Longitude</th>\n",
       "    </tr>\n",
       "  </thead>\n",
       "  <tbody>\n",
       "    <tr>\n",
       "      <th>0</th>\n",
       "      <td>POI1</td>\n",
       "      <td>53.546167</td>\n",
       "      <td>-113.485734</td>\n",
       "    </tr>\n",
       "    <tr>\n",
       "      <th>1</th>\n",
       "      <td>POI2</td>\n",
       "      <td>53.546167</td>\n",
       "      <td>-113.485734</td>\n",
       "    </tr>\n",
       "    <tr>\n",
       "      <th>2</th>\n",
       "      <td>POI3</td>\n",
       "      <td>45.521629</td>\n",
       "      <td>-73.566024</td>\n",
       "    </tr>\n",
       "    <tr>\n",
       "      <th>3</th>\n",
       "      <td>POI4</td>\n",
       "      <td>45.224830</td>\n",
       "      <td>-63.232729</td>\n",
       "    </tr>\n",
       "  </tbody>\n",
       "</table>\n",
       "</div>"
      ],
      "text/plain": [
       "  POIID   Latitude   Longitude\n",
       "0  POI1  53.546167 -113.485734\n",
       "1  POI2  53.546167 -113.485734\n",
       "2  POI3  45.521629  -73.566024\n",
       "3  POI4  45.224830  -63.232729"
      ]
     },
     "execution_count": 121,
     "metadata": {},
     "output_type": "execute_result"
    }
   ],
   "source": [
    "df2.head()"
   ]
  },
  {
   "cell_type": "code",
   "execution_count": 110,
   "metadata": {},
   "outputs": [],
   "source": [
    "POI_list = []\n",
    "p1 = []\n",
    "#no point in creating a p2 list because p2 and p1 are the same point\n",
    "p3 = []\n",
    "p4 = []\n",
    "for j in range(len(df)):\n",
    "    point, dist  = closest_vector(df[\"Latitude\"].iloc[j], df[\"Longitude\"].iloc[j])     #Adding the closest vector to list (Problem 2)\n",
    "    POI_list.append(point)\n",
    "    \n",
    "    if point == \"POI1\":              #Problem 3 begins here\n",
    "        p1.append(dist)\n",
    "    elif point == \"POI3\":\n",
    "        p3.append(dist)\n",
    "    else: \n",
    "        p4.append(dist)\n",
    "    \n",
    "df[\"Nearest_POI\"] = POI_list         #adding the POI entries into the dataframe\n",
    "\n",
    "    "
   ]
  },
  {
   "cell_type": "code",
   "execution_count": 111,
   "metadata": {},
   "outputs": [],
   "source": [
    "########## Problem 3 a) ##########\n",
    "if (len(p1) + len(p3) + len(p4)) != len(df):\n",
    "    print(\"error\")\n",
    "    \n",
    "avg1 = sum(p1)/len(p1)\n",
    "avg3 = sum(p3)/len(p3)\n",
    "avg4 = sum(p4)/len(p4)"
   ]
  },
  {
   "cell_type": "code",
   "execution_count": 112,
   "metadata": {},
   "outputs": [],
   "source": [
    "def standard_deviation(arr, avg):\n",
    "    ret = 0\n",
    "    for num in arr:\n",
    "        ret += (num - avg)**2\n",
    "    return math.sqrt(ret/len(arr))"
   ]
  },
  {
   "cell_type": "code",
   "execution_count": 237,
   "metadata": {},
   "outputs": [
    {
     "name": "stdout",
     "output_type": "stream",
     "text": [
      "Avg of POI 1 distance is  3.348183006325586\n",
      "Standard Deviation of POI 1 is  3.8582906342102605\n",
      "Avg of POI 3 distance is  5.537950830488866\n",
      "Standard Deviation of POI 1 is  2.858544126885262\n",
      "Avg of POI 4 distance is  8.810410862715697\n",
      "Standard Deviation of POI 4 is  28.645491884351287\n"
     ]
    }
   ],
   "source": [
    "sd1 = standard_deviation(p1, avg1)\n",
    "sd3 = standard_deviation(p3, avg3)\n",
    "sd4 = standard_deviation(p4, avg4)\n",
    "\n",
    "print(\"Avg of POI 1 distance is \", avg1)\n",
    "print(\"Standard Deviation of POI 1 is \", sd1)\n",
    "print(\"Avg of POI 3 distance is \", avg3)\n",
    "print(\"Standard Deviation of POI 1 is \", sd3)\n",
    "print(\"Avg of POI 4 distance is \", avg4)\n",
    "print(\"Standard Deviation of POI 4 is \", sd4)"
   ]
  },
  {
   "cell_type": "code",
   "execution_count": 114,
   "metadata": {},
   "outputs": [
    {
     "data": {
      "text/plain": [
       "<matplotlib.collections.PathCollection at 0x2891cdc25f8>"
      ]
     },
     "execution_count": 114,
     "metadata": {},
     "output_type": "execute_result"
    },
    {
     "data": {
      "image/png": "[encoded data removed]",
      "text/plain": [
       "<Figure size 432x288 with 1 Axes>"
      ]
     },
     "metadata": {
      "needs_background": "light"
     },
     "output_type": "display_data"
    }
   ],
   "source": [
    "plt.scatter(np.linspace(0,len(p4) -1, len(p4)), p4)\n",
    "#the standard deviation on p4 seemed off compared to the avg so I plotted to check and now it's understandable"
   ]
  },
  {
   "cell_type": "code",
   "execution_count": 128,
   "metadata": {},
   "outputs": [
    {
     "data": {
      "text/plain": [
       "<matplotlib.collections.PathCollection at 0x2891d028c50>"
      ]
     },
     "execution_count": 128,
     "metadata": {},
     "output_type": "execute_result"
    },
    {
     "data": {
      "image/png": "[encoded data removed]",
      "text/plain": [
       "<Figure size 432x288 with 1 Axes>"
      ]
     },
     "metadata": {
      "needs_background": "light"
     },
     "output_type": "display_data"
    }
   ],
   "source": [
    "########## Problem 3 b) ##########\n",
    "p1y = []\n",
    "p1x = []\n",
    "p3y = []\n",
    "p3x = []\n",
    "p4y = []\n",
    "p4x = []\n",
    "for i in range(len(df)):\n",
    "    if df[\"Nearest_POI\"].iloc[i] == \"POI1\":\n",
    "        p1x.append(df[\"Longitude\"].iloc[i])\n",
    "        p1y.append(df[\"Latitude\"].iloc[i])\n",
    "    elif df[\"Nearest_POI\"].iloc[i] == \"POI3\":\n",
    "        p3x.append(df[\"Longitude\"].iloc[i])\n",
    "        p3y.append(df[\"Latitude\"].iloc[i])\n",
    "    else:\n",
    "        p4x.append(df[\"Longitude\"].iloc[i])\n",
    "        p4y.append(df[\"Latitude\"].iloc[i])\n",
    "\n",
    "p1x = np.array(p1x)\n",
    "p1y = np.array(p1y)\n",
    "p3x = np.array(p3x)\n",
    "p3y = np.array(p3y)\n",
    "p4x = np.array(p4x)\n",
    "p4y = np.array(p4y)\n",
    "        "
   ]
  },
  {
   "cell_type": "code",
   "execution_count": 233,
   "metadata": {},
   "outputs": [],
   "source": [
    "def get_density(radius, points):\n",
    "    #area of a circle is pi*(r**2)\n",
    "    return len(points)/(math.pi*(radius ** 2))"
   ]
  },
  {
   "cell_type": "code",
   "execution_count": 264,
   "metadata": {},
   "outputs": [
    {
     "name": "stdout",
     "output_type": "stream",
     "text": [
      "Avg of POI 1 distance is  3.348183006325586\n",
      "Standard Deviation of POI 1 is  3.8582906342102605\n",
      "The Radius of POI 1 is  24.85193722989386\n",
      "The Density of POI 1 is  4.998179064154924\n"
     ]
    },
    {
     "data": {
      "image/png": "[encoded data removed]",
      "text/plain": [
       "<Figure size 432x288 with 1 Axes>"
      ]
     },
     "metadata": {
      "needs_background": "light"
     },
     "output_type": "display_data"
    }
   ],
   "source": [
    "radius1 = max(p1)\n",
    "\n",
    "fig, ax = plt.subplots()\n",
    "ax.scatter(p1x, p1y, c='b')\n",
    "\n",
    "ax.scatter(df2[\"Longitude\"].iloc[0], df2[\" Latitude\"].iloc[0], c='b', edgecolors='r')\n",
    "ax.set_ylim(20, 80)\n",
    "ax.set_xlim(-150,-75)\n",
    "\n",
    "circle1 = plt.Circle((df2[\"Longitude\"].iloc[0], df2[\" Latitude\"].iloc[0]), radius1, color='r', fill=False)\n",
    "plt.gcf().gca().add_artist(circle1)\n",
    "\n",
    "print(\"Avg of POI 1 distance is \", avg1)\n",
    "print(\"Standard Deviation of POI 1 is \", sd1)\n",
    "print(\"The Radius of POI 1 is \", radius1)\n",
    "print(\"The Density of POI 1 is \",get_density(radius1, p1))"
   ]
  },
  {
   "cell_type": "code",
   "execution_count": 265,
   "metadata": {},
   "outputs": [
    {
     "name": "stdout",
     "output_type": "stream",
     "text": [
      "Avg of POI 3 distance is  5.537950830488866\n",
      "Standard Deviation of POI 1 is  2.858544126885262\n",
      "The Radius of POI 3 is  20.155377791591437\n",
      "The Density of POI 3 is  7.692137385787865\n"
     ]
    },
    {
     "data": {
      "image/png": "[encoded data removed]",
      "text/plain": [
       "<Figure size 432x288 with 1 Axes>"
      ]
     },
     "metadata": {
      "needs_background": "light"
     },
     "output_type": "display_data"
    }
   ],
   "source": [
    "radius3 = max(p3)\n",
    "\n",
    "fig1, ax2 = plt.subplots()\n",
    "ax2.scatter(p3x, p3y, c='g')\n",
    "\n",
    "ax2.scatter(df2[\"Longitude\"].iloc[2], df2[\" Latitude\"].iloc[2], c='r', edgecolors='b')\n",
    "ax2.set_ylim(20, 75)\n",
    "ax2.set_xlim(-100,-50)\n",
    "\n",
    "circle2 = plt.Circle((df2[\"Longitude\"].iloc[2], df2[\" Latitude\"].iloc[2]), radius3, color='r', fill=False)\n",
    "plt.gcf().gca().add_artist(circle2)\n",
    "\n",
    "\n",
    "print(\"Avg of POI 3 distance is \", avg3)\n",
    "print(\"Standard Deviation of POI 1 is \", sd3)\n",
    "print(\"The Radius of POI 3 is \", radius3)\n",
    "print(\"The Density of POI 3 is \",get_density(radius3, p3))"
   ]
  },
  {
   "cell_type": "code",
   "execution_count": 267,
   "metadata": {},
   "outputs": [
    {
     "name": "stdout",
     "output_type": "stream",
     "text": [
      "Avg of POI 1 distance is  8.810410862715697\n",
      "Standard Deviation of POI 1 is  28.645491884351287\n",
      "The Radius of POI 4 is  192.7049913074258\n",
      "The Density of POI 4 is  0.004148676408923476\n"
     ]
    },
    {
     "data": {
      "image/png": "[encoded data removed]",
      "text/plain": [
       "<Figure size 432x288 with 1 Axes>"
      ]
     },
     "metadata": {
      "needs_background": "light"
     },
     "output_type": "display_data"
    }
   ],
   "source": [
    "radius4 = max(p4)\n",
    "\n",
    "fig, ax3 = plt.subplots()\n",
    "ax3.scatter(p4x, p4y, c='r')\n",
    "\n",
    "ax3.scatter(df2[\"Longitude\"].iloc[3], df2[\" Latitude\"].iloc[3], c='r', edgecolors='b')\n",
    "ax3.set_ylim(-200, 250)\n",
    "ax3.set_xlim(-350,250)\n",
    "\n",
    "circle3 = plt.Circle((df2[\"Longitude\"].iloc[3], df2[\" Latitude\"].iloc[3]), radius4, color='b', fill=False)\n",
    "plt.gcf().gca().add_artist(circle3)\n",
    "\n",
    "print(\"Avg of POI 1 distance is \", avg4)\n",
    "print(\"Standard Deviation of POI 1 is \", sd4)\n",
    "print(\"The Radius of POI 4 is \", radius4)\n",
    "print(\"The Density of POI 4 is \",get_density(radius4, p4))"
   ]
  },
  {
   "cell_type": "code",
   "execution_count": 323,
   "metadata": {},
   "outputs": [],
   "source": [
    "########## Problem 4a\n",
    "'''Discussion:\n",
    "This model was created by analyzing the data, thinking about what each metric represents, ranking the metrics in\n",
    "order of importance, choosing the best mathematical function to score the metric, factoring in best functions to \n",
    "distribute the final score.\n",
    "\n",
    "The popularity of each region was decided according to the realization that the further people will travel to reach\n",
    "a POI indicates how popular it is. Also considering the amount of people going to the POI (volume) and how distributed\n",
    "the populations are (are people travelling from all over the radius to the POI or just within a population cluster).\n",
    "\n",
    "This model would be greatly improved by adding in a metric to determine the spacial distribution within the radius\n",
    "relative to the circled area. Like if density considered how far apart each node was within the space\n",
    "'''\n",
    "\n",
    "\n",
    "#radius : how far people will come [rank 2] - Linear \n",
    "#avg distance : how far the people coming away will commute (will generally be close) (far average means people will travel further) [rank 4] - arctanh - high precidence on outliers \n",
    "#std deviation : decent indicator of distribution (how non-clustered the area is) [rank 3] - Linear\n",
    "#density : people per radius [rank 5] - Linear\n",
    "#volume : How many people come [rank 1] - Tanh - high reward for above average value but diminishes outliers\n",
    "\n",
    "\n",
    "def model(radius, avg_distance, std_deviation, volume):\n",
    "    #density will be ignored\n",
    "    radius_score = min(radius/150, 1)                          #max score is 1 and divide by 250 units (highest in data is 192) \n",
    "    distance_score = min(avg_distance /3 , 1.9)                #from data, a medium distance is ~= 4, the -1 scales the value between [-0.9,0.9] for arctan range (has ability to reduce total score)\n",
    "    std_deviation_score = min(std_deviation/30, 1)\n",
    "    volume_score  = np.arctanh(min(volume/10000, 1) -1)*1.5    #a large visiting population is ~= 10,000  (1.5x multiplier because of importance) returns in range [-3,3]\n",
    "    score = radius_score + distance_score + std_deviation_score + volume_score  \n",
    "    score /= 1.625                                             #max possible score is 6.5, 4 is the desired range for final tanh scale => 6.5/4 = 1.625\n",
    "    score -= 1                                                 #now score is in [-2,2]\n",
    "    return np.tanh(score)*10\n",
    "    \n",
    "\n",
    "\n"
   ]
  },
  {
   "cell_type": "code",
   "execution_count": 326,
   "metadata": {},
   "outputs": [
    {
     "name": "stdout",
     "output_type": "stream",
     "text": [
      "0.16567958153262574\n",
      "1.1160610021085287\n",
      "0.12860968780700868\n",
      "-0.045313779345174714\n"
     ]
    },
    {
     "data": {
      "text/plain": [
       "-1.5862661276070806"
      ]
     },
     "execution_count": 326,
     "metadata": {},
     "output_type": "execute_result"
    }
   ],
   "source": [
    "model(radius1, avg1, sd1, len(p1))"
   ]
  },
  {
   "cell_type": "code",
   "execution_count": 302,
   "metadata": {},
   "outputs": [
    {
     "data": {
      "text/plain": [
       "9817"
      ]
     },
     "execution_count": 302,
     "metadata": {},
     "output_type": "execute_result"
    }
   ],
   "source": [
    "model(radius3, avg3, sd3, len(p3))"
   ]
  },
  {
   "cell_type": "code",
   "execution_count": null,
   "metadata": {},
   "outputs": [],
   "source": [
    "model(radius4, avg4, sd4, len(p4))"
   ]
  }
 ],
 "metadata": {
  "kernelspec": {
   "display_name": "Python 3",
   "language": "python",
   "name": "python3"
  },
  "language_info": {
   "codemirror_mode": {
    "name": "ipython",
    "version": 3
   },
   "file_extension": ".py",
   "mimetype": "text/x-python",
   "name": "python",
   "nbconvert_exporter": "python",
   "pygments_lexer": "ipython3",
   "version": "3.7.0"
  }
 },
 "nbformat": 4,
 "nbformat_minor": 2
}
