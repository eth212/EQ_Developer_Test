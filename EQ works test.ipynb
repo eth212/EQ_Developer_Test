{
 "cells": [
  {
   "cell_type": "code",
   "execution_count": 24,
   "metadata": {},
   "outputs": [],
   "source": [
    "import pandas as pd\n",
    "import numpy as np \n",
    "import math"
   ]
  },
  {
   "cell_type": "code",
   "execution_count": 2,
   "metadata": {},
   "outputs": [],
   "source": [
    "buffer = pd.read_csv(\"DataSample.csv\")\n",
    "df = pd.DataFrame(buffer)\n",
    "\n",
    "buffer2 = pd.read_csv(\"POIList.csv\")\n",
    "df2 = pd.DataFrame(buffer2)"
   ]
  },
  {
   "cell_type": "code",
   "execution_count": 12,
   "metadata": {},
   "outputs": [
    {
     "data": {
      "text/html": [
       "<div>\n",
       "<style scoped>\n",
       "    .dataframe tbody tr th:only-of-type {\n",
       "        vertical-align: middle;\n",
       "    }\n",
       "\n",
       "    .dataframe tbody tr th {\n",
       "        vertical-align: top;\n",
       "    }\n",
       "\n",
       "    .dataframe thead th {\n",
       "        text-align: right;\n",
       "    }\n",
       "</style>\n",
       "<table border=\"1\" class=\"dataframe\">\n",
       "  <thead>\n",
       "    <tr style=\"text-align: right;\">\n",
       "      <th></th>\n",
       "      <th>POIID</th>\n",
       "      <th>Latitude</th>\n",
       "      <th>Longitude</th>\n",
       "    </tr>\n",
       "  </thead>\n",
       "  <tbody>\n",
       "    <tr>\n",
       "      <th>0</th>\n",
       "      <td>POI1</td>\n",
       "      <td>53.546167</td>\n",
       "      <td>-113.485734</td>\n",
       "    </tr>\n",
       "    <tr>\n",
       "      <th>1</th>\n",
       "      <td>POI2</td>\n",
       "      <td>53.546167</td>\n",
       "      <td>-113.485734</td>\n",
       "    </tr>\n",
       "    <tr>\n",
       "      <th>2</th>\n",
       "      <td>POI3</td>\n",
       "      <td>45.521629</td>\n",
       "      <td>-73.566024</td>\n",
       "    </tr>\n",
       "    <tr>\n",
       "      <th>3</th>\n",
       "      <td>POI4</td>\n",
       "      <td>45.224830</td>\n",
       "      <td>-63.232729</td>\n",
       "    </tr>\n",
       "  </tbody>\n",
       "</table>\n",
       "</div>"
      ],
      "text/plain": [
       "  POIID   Latitude   Longitude\n",
       "0  POI1  53.546167 -113.485734\n",
       "1  POI2  53.546167 -113.485734\n",
       "2  POI3  45.521629  -73.566024\n",
       "3  POI4  45.224830  -63.232729"
      ]
     },
     "execution_count": 12,
     "metadata": {},
     "output_type": "execute_result"
    }
   ],
   "source": [
    "df2.head()"
   ]
  },
  {
   "cell_type": "code",
   "execution_count": 21,
   "metadata": {},
   "outputs": [
    {
     "data": {
      "text/plain": [
       "Index(['POIID', ' Latitude', 'Longitude'], dtype='object')"
      ]
     },
     "execution_count": 21,
     "metadata": {},
     "output_type": "execute_result"
    }
   ],
   "source": [
    "df2.columns"
   ]
  },
  {
   "cell_type": "code",
   "execution_count": 10,
   "metadata": {},
   "outputs": [],
   "source": [
    "ids_to_remove = []\n",
    "valid_data = {}\n",
    "for i in range(len(df)):\n",
    "    coordinate_key = str(df[\"Latitude\"].iloc[i]) + str(df[\"Longitude\"].iloc[i]) #creating a key for dictionary\n",
    "    if coordinate_key not in valid_data:                                        #O(1) look up time\n",
    "        valid_data[coordinate_key] = [df[\" TimeSt\"].iloc[i]]                    #storing an array of timestamps to check for suspicous entries\n",
    "    elif df[\" TimeSt\"].iloc[i] in valid_data[coordinate_key]:                   #checking to see if that time stamp has been seen before\n",
    "        ids_to_remove.append(df[\"_ID\"].iloc[i])                                 #if suspicous, store it's id in array\n",
    "    else:                                                                       \n",
    "        valid_data[coordinate_key].append(df[\" TimeSt\"].iloc[i])                #if the timestamp is new, store it in dictionary\n",
    "df = df[~df[\"_ID\"].isin(ids_to_remove)]                                         #removing the suspicous entries    \n",
    "\n",
    "#this method takes O(n) time where n is the length of the dataframe "
   ]
  },
  {
   "cell_type": "code",
   "execution_count": 32,
   "metadata": {},
   "outputs": [],
   "source": [
    "#################### Function created for part 2\n",
    "#################### This function assumes that latitude and Longitude function perpendicular to eachother (creating 2d vector space) \n",
    "def closest_vector(lat, long):\n",
    "    curr_closest = df2[\"POIID\"].iloc[0]\n",
    "    \n",
    "    #calculating for first coordinate\n",
    "    delta_x = abs(lat - df2[\" Latitude\"].iloc[0]) \n",
    "    delta_y = abs(long - df2[\"Longitude\"].iloc[0])\n",
    "    min_dist = math.sqrt((delta_x ** 2) + (delta_y ** 2))\n",
    "    \n",
    "    for i in range(1, len(df2)):\n",
    "        delta_x = abs(lat - df2[\" Latitude\"].iloc[i]) \n",
    "        delta_y = abs(long - df2[\"Longitude\"].iloc[i])\n",
    "        curr_dist = math.sqrt((delta_x **2) + (delta_y ** 2))         #using pythagoreus theorem to get distance in between points\n",
    "        if curr_dist < min_dist:\n",
    "            min_dist = curr_dist\n",
    "            curr_closest = df2[\"POIID\"].iloc[i]\n",
    "    return curr_closest"
   ]
  },
  {
   "cell_type": "code",
   "execution_count": 36,
   "metadata": {},
   "outputs": [
    {
     "name": "stderr",
     "output_type": "stream",
     "text": [
      "c:\\users\\ethan\\appdata\\local\\programs\\python\\python37\\lib\\site-packages\\ipykernel_launcher.py:5: SettingWithCopyWarning: \n",
      "A value is trying to be set on a copy of a slice from a DataFrame.\n",
      "Try using .loc[row_indexer,col_indexer] = value instead\n",
      "\n",
      "See the caveats in the documentation: http://pandas.pydata.org/pandas-docs/stable/user_guide/indexing.html#returning-a-view-versus-a-copy\n",
      "  \"\"\"\n"
     ]
    },
    {
     "data": {
      "text/plain": [
       "_ID            19999\n",
       " TimeSt        19999\n",
       "Country        19999\n",
       "Province       19999\n",
       "City           19999\n",
       "Latitude       19999\n",
       "Longitude      19999\n",
       "Nearest_POI    19999\n",
       "dtype: int64"
      ]
     },
     "execution_count": 36,
     "metadata": {},
     "output_type": "execute_result"
    }
   ],
   "source": [
    "POI_list = []\n",
    "for j in range(len(df)):\n",
    "    POI_list.append(closest_vector(df[\"Latitude\"].iloc[j], df[\"Longitude\"].iloc[j]))\n",
    "\n",
    "df[\"Nearest_POI\"] = POI_list\n",
    "\n",
    "df.count()\n",
    "    "
   ]
  },
  {
   "cell_type": "code",
   "execution_count": 38,
   "metadata": {},
   "outputs": [
    {
     "data": {
      "text/html": [
       "<div>\n",
       "<style scoped>\n",
       "    .dataframe tbody tr th:only-of-type {\n",
       "        vertical-align: middle;\n",
       "    }\n",
       "\n",
       "    .dataframe tbody tr th {\n",
       "        vertical-align: top;\n",
       "    }\n",
       "\n",
       "    .dataframe thead th {\n",
       "        text-align: right;\n",
       "    }\n",
       "</style>\n",
       "<table border=\"1\" class=\"dataframe\">\n",
       "  <thead>\n",
       "    <tr style=\"text-align: right;\">\n",
       "      <th></th>\n",
       "      <th>_ID</th>\n",
       "      <th>TimeSt</th>\n",
       "      <th>Country</th>\n",
       "      <th>Province</th>\n",
       "      <th>City</th>\n",
       "      <th>Latitude</th>\n",
       "      <th>Longitude</th>\n",
       "      <th>Nearest_POI</th>\n",
       "    </tr>\n",
       "  </thead>\n",
       "  <tbody>\n",
       "    <tr>\n",
       "      <th>0</th>\n",
       "      <td>4516516</td>\n",
       "      <td>2017-06-21 00:00:00.143</td>\n",
       "      <td>CA</td>\n",
       "      <td>ON</td>\n",
       "      <td>Waterloo</td>\n",
       "      <td>43.49347</td>\n",
       "      <td>-80.49123</td>\n",
       "      <td>POI3</td>\n",
       "    </tr>\n",
       "    <tr>\n",
       "      <th>1</th>\n",
       "      <td>4516547</td>\n",
       "      <td>2017-06-21 18:00:00.193</td>\n",
       "      <td>CA</td>\n",
       "      <td>ON</td>\n",
       "      <td>London</td>\n",
       "      <td>42.93990</td>\n",
       "      <td>-81.27090</td>\n",
       "      <td>POI3</td>\n",
       "    </tr>\n",
       "    <tr>\n",
       "      <th>2</th>\n",
       "      <td>4516550</td>\n",
       "      <td>2017-06-21 15:00:00.287</td>\n",
       "      <td>CA</td>\n",
       "      <td>ON</td>\n",
       "      <td>Guelph</td>\n",
       "      <td>43.57760</td>\n",
       "      <td>-80.22010</td>\n",
       "      <td>POI3</td>\n",
       "    </tr>\n",
       "    <tr>\n",
       "      <th>3</th>\n",
       "      <td>4516600</td>\n",
       "      <td>2017-06-21 15:00:00.307</td>\n",
       "      <td>CA</td>\n",
       "      <td>ON</td>\n",
       "      <td>Stratford</td>\n",
       "      <td>43.37160</td>\n",
       "      <td>-80.97730</td>\n",
       "      <td>POI3</td>\n",
       "    </tr>\n",
       "    <tr>\n",
       "      <th>4</th>\n",
       "      <td>4516613</td>\n",
       "      <td>2017-06-21 15:00:00.497</td>\n",
       "      <td>CA</td>\n",
       "      <td>ON</td>\n",
       "      <td>Stratford</td>\n",
       "      <td>43.37160</td>\n",
       "      <td>-80.97730</td>\n",
       "      <td>POI3</td>\n",
       "    </tr>\n",
       "    <tr>\n",
       "      <th>...</th>\n",
       "      <td>...</td>\n",
       "      <td>...</td>\n",
       "      <td>...</td>\n",
       "      <td>...</td>\n",
       "      <td>...</td>\n",
       "      <td>...</td>\n",
       "      <td>...</td>\n",
       "      <td>...</td>\n",
       "    </tr>\n",
       "    <tr>\n",
       "      <th>209</th>\n",
       "      <td>4527041</td>\n",
       "      <td>2017-06-21 19:00:24.713</td>\n",
       "      <td>CA</td>\n",
       "      <td>ON</td>\n",
       "      <td>London</td>\n",
       "      <td>42.99300</td>\n",
       "      <td>-81.16900</td>\n",
       "      <td>POI3</td>\n",
       "    </tr>\n",
       "    <tr>\n",
       "      <th>210</th>\n",
       "      <td>4527101</td>\n",
       "      <td>2017-06-21 01:00:25.740</td>\n",
       "      <td>CA</td>\n",
       "      <td>ON</td>\n",
       "      <td>Toronto</td>\n",
       "      <td>43.64660</td>\n",
       "      <td>-79.44930</td>\n",
       "      <td>POI3</td>\n",
       "    </tr>\n",
       "    <tr>\n",
       "      <th>211</th>\n",
       "      <td>4527148</td>\n",
       "      <td>2017-06-21 19:00:20.903</td>\n",
       "      <td>CA</td>\n",
       "      <td>AB</td>\n",
       "      <td>Airdrie</td>\n",
       "      <td>51.27979</td>\n",
       "      <td>-114.00324</td>\n",
       "      <td>POI1</td>\n",
       "    </tr>\n",
       "    <tr>\n",
       "      <th>212</th>\n",
       "      <td>4527192</td>\n",
       "      <td>2017-06-21 05:00:21.100</td>\n",
       "      <td>CA</td>\n",
       "      <td>ON</td>\n",
       "      <td>Toronto</td>\n",
       "      <td>43.66820</td>\n",
       "      <td>-79.42090</td>\n",
       "      <td>POI3</td>\n",
       "    </tr>\n",
       "    <tr>\n",
       "      <th>213</th>\n",
       "      <td>4527235</td>\n",
       "      <td>2017-06-21 08:00:21.153</td>\n",
       "      <td>CA</td>\n",
       "      <td>ON</td>\n",
       "      <td>Waterloo</td>\n",
       "      <td>43.47370</td>\n",
       "      <td>-80.53090</td>\n",
       "      <td>POI3</td>\n",
       "    </tr>\n",
       "  </tbody>\n",
       "</table>\n",
       "<p>200 rows × 8 columns</p>\n",
       "</div>"
      ],
      "text/plain": [
       "         _ID                   TimeSt Country Province       City  Latitude  \\\n",
       "0    4516516  2017-06-21 00:00:00.143      CA       ON   Waterloo  43.49347   \n",
       "1    4516547  2017-06-21 18:00:00.193      CA       ON     London  42.93990   \n",
       "2    4516550  2017-06-21 15:00:00.287      CA       ON     Guelph  43.57760   \n",
       "3    4516600  2017-06-21 15:00:00.307      CA       ON  Stratford  43.37160   \n",
       "4    4516613  2017-06-21 15:00:00.497      CA       ON  Stratford  43.37160   \n",
       "..       ...                      ...     ...      ...        ...       ...   \n",
       "209  4527041  2017-06-21 19:00:24.713      CA       ON     London  42.99300   \n",
       "210  4527101  2017-06-21 01:00:25.740      CA       ON    Toronto  43.64660   \n",
       "211  4527148  2017-06-21 19:00:20.903      CA       AB    Airdrie  51.27979   \n",
       "212  4527192  2017-06-21 05:00:21.100      CA       ON    Toronto  43.66820   \n",
       "213  4527235  2017-06-21 08:00:21.153      CA       ON   Waterloo  43.47370   \n",
       "\n",
       "     Longitude Nearest_POI  \n",
       "0    -80.49123        POI3  \n",
       "1    -81.27090        POI3  \n",
       "2    -80.22010        POI3  \n",
       "3    -80.97730        POI3  \n",
       "4    -80.97730        POI3  \n",
       "..         ...         ...  \n",
       "209  -81.16900        POI3  \n",
       "210  -79.44930        POI3  \n",
       "211 -114.00324        POI1  \n",
       "212  -79.42090        POI3  \n",
       "213  -80.53090        POI3  \n",
       "\n",
       "[200 rows x 8 columns]"
      ]
     },
     "execution_count": 38,
     "metadata": {},
     "output_type": "execute_result"
    }
   ],
   "source": [
    "df.head(200)"
   ]
  },
  {
   "cell_type": "code",
   "execution_count": 39,
   "metadata": {},
   "outputs": [
    {
     "name": "stdout",
     "output_type": "stream",
     "text": [
      "13.818181818181818\n"
     ]
    }
   ],
   "source": [
    "cheech = [4,3,5,6,7,8,54,34,23,5,3]\n",
    "print(sum(cheech) / len(cheech))"
   ]
  },
  {
   "cell_type": "code",
   "execution_count": 72,
   "metadata": {},
   "outputs": [],
   "source": [
    "def get_avg(arr):\n",
    "    curr = float(arr[0])\n",
    "    for i in range(1,len(arr)):\n",
    "        curr = (curr*(i + 1) + arr[i]) / (i + 2)\n",
    "    return curr\n",
    "        \n",
    "        "
   ]
  },
  {
   "cell_type": "code",
   "execution_count": 73,
   "metadata": {},
   "outputs": [
    {
     "data": {
      "text/plain": [
       "13.0"
      ]
     },
     "execution_count": 73,
     "metadata": {},
     "output_type": "execute_result"
    }
   ],
   "source": [
    "get_avg(cheech)"
   ]
  },
  {
   "cell_type": "code",
   "execution_count": null,
   "metadata": {},
   "outputs": [],
   "source": []
  }
 ],
 "metadata": {
  "kernelspec": {
   "display_name": "Python 3",
   "language": "python",
   "name": "python3"
  },
  "language_info": {
   "codemirror_mode": {
    "name": "ipython",
    "version": 3
   },
   "file_extension": ".py",
   "mimetype": "text/x-python",
   "name": "python",
   "nbconvert_exporter": "python",
   "pygments_lexer": "ipython3",
   "version": "3.7.0"
  }
 },
 "nbformat": 4,
 "nbformat_minor": 2
}
